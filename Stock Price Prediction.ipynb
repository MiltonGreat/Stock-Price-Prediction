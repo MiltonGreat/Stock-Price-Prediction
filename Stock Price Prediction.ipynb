{
 "cells": [
  {
   "cell_type": "markdown",
   "id": "d76157b0-1205-4eb8-bd7a-de8645bb9f56",
   "metadata": {},
   "source": [
    "# Stock Price Prediction Using LSTM "
   ]
  },
  {
   "cell_type": "markdown",
   "id": "142aefb6-4a71-4ff8-a5aa-8f71e42b0ee8",
   "metadata": {},
   "source": [
    "The project you're working on aims to predict the stock price of PayPal (PYPL) using historical stock data and machine learning techniques. Specifically, it's a time series forecasting problem where you want to predict future stock prices based on the patterns observed in past prices.\n",
    "\n",
    "The goal of this project is to build a predictive model using the Long Short-Term Memory (LSTM) neural network, which is well-suited for time series data. Additionally, the project includes a backtesting strategy to simulate a trading strategy based on predicted stock prices, to evaluate the potential financial performance of the predictions.\n",
    "\n",
    "#### Data\n",
    "\n",
    "The project uses the yfinance library to download historical stock price data for PayPal from January 1, 2015, to January 1, 2023, including:\n",
    "\n",
    "- Open, high, low, close (OHLC) prices\n",
    "- Trading volumes"
   ]
  },
  {
   "cell_type": "markdown",
   "id": "555d0182-1cfb-4a91-9ed7-2c0d43fd706f",
   "metadata": {},
   "source": [
    "### 1. Import Libraries"
   ]
  },
  {
   "cell_type": "code",
   "execution_count": 2,
   "id": "917491fc-7e9d-4640-b904-d8eb9b87a86a",
   "metadata": {},
   "outputs": [],
   "source": [
    "import yfinance as yf\n",
    "import pandas as pd\n",
    "import numpy as np\n",
    "import matplotlib.pyplot as plt\n",
    "from sklearn.preprocessing import MinMaxScaler\n",
    "from sklearn.metrics import mean_absolute_error, r2_score\n",
    "from tensorflow.keras.models import Sequential\n",
    "from tensorflow.keras.layers import LSTM, Dense, Dropout"
   ]
  },
  {
   "cell_type": "markdown",
   "id": "67efea1f-9b8b-476c-94b8-fe05a9be1b3c",
   "metadata": {},
   "source": [
    "### 2. Load Data"
   ]
  },
  {
   "cell_type": "code",
   "execution_count": 3,
   "id": "ebb01d4e-eb1c-41df-8d67-a39adccb7bdc",
   "metadata": {},
   "outputs": [
    {
     "name": "stdout",
     "output_type": "stream",
     "text": [
      "YF.download() has changed argument auto_adjust default to True\n"
     ]
    },
    {
     "name": "stderr",
     "output_type": "stream",
     "text": [
      "[*********************100%***********************]  1 of 1 completed"
     ]
    },
    {
     "name": "stdout",
     "output_type": "stream",
     "text": [
      "\n",
      "--- Historical Stock Data ---\n",
      "Price           Close       High        Low       Open   Volume\n",
      "Ticker           PYPL       PYPL       PYPL       PYPL     PYPL\n",
      "Date                                                           \n",
      "2015-07-06  36.709999  39.750000  36.000000  38.000000  5866600\n",
      "2015-07-07  36.619999  37.810001  36.000000  37.720001  7359000\n",
      "2015-07-08  34.700001  36.360001  34.529999  36.340000  5387700\n",
      "2015-07-09  34.500000  35.520000  33.990002  35.099998  3760100\n",
      "2015-07-10  34.689999  35.189999  33.980000  34.660000  4472800\n",
      "\n",
      "--- Stock Data with Moving Averages ---\n",
      "Price           Close     MA20     MA50\n",
      "Ticker           PYPL                  \n",
      "Date                                   \n",
      "2022-12-23  69.029999  73.0455  79.4148\n",
      "2022-12-27  68.330002  72.4655  79.1720\n",
      "2022-12-28  67.550003  71.9610  78.8298\n",
      "2022-12-29  70.559998  71.5685  78.5352\n",
      "2022-12-30  71.220001  71.2030  78.2702\n",
      "\n",
      "--- Scaled Stock Prices ---\n",
      "[[0.01129903]\n",
      " [0.01140698]\n",
      " [0.01129903]\n",
      " [0.00967974]\n",
      " [0.00824037]]\n",
      "\n",
      "--- Training Size: 1471, Testing Size: 368 ---\n"
     ]
    },
    {
     "name": "stderr",
     "output_type": "stream",
     "text": [
      "\n"
     ]
    }
   ],
   "source": [
    "# Download historical data for PayPal\n",
    "stock_data = yf.download('PYPL', start='2015-01-01', end='2023-01-01')\n",
    "print(\"\\n--- Historical Stock Data ---\")\n",
    "print(stock_data.head())  \n",
    "\n",
    "# Adding Moving Averages\n",
    "stock_data['MA20'] = stock_data['Close'].rolling(window=20).mean()  # 20-day moving average\n",
    "stock_data['MA50'] = stock_data['Close'].rolling(window=50).mean()  # 50-day moving average\n",
    "stock_data.dropna(inplace=True)  # Drop rows with NaN values\n",
    "print(\"\\n--- Stock Data with Moving Averages ---\")\n",
    "print(stock_data[['Close', 'MA20', 'MA50']].tail())  \n",
    "\n",
    "# Scale the Closing Prices\n",
    "data = stock_data['Close'].values.reshape(-1, 1)\n",
    "scaler = MinMaxScaler(feature_range=(0, 1))\n",
    "scaled_data = scaler.fit_transform(data)\n",
    "print(\"\\n--- Scaled Stock Prices ---\")\n",
    "print(scaled_data[:5])  # Inspect the first few scaled prices\n",
    "\n",
    "# Split the data into training and testing sets\n",
    "train_size = int(len(scaled_data) * 0.8)\n",
    "train_data = scaled_data[:train_size]\n",
    "test_data = scaled_data[train_size:]\n",
    "print(f\"\\n--- Training Size: {len(train_data)}, Testing Size: {len(test_data)} ---\")"
   ]
  },
  {
   "cell_type": "markdown",
   "id": "74b941cc-2729-4a22-a234-97f353f352e5",
   "metadata": {},
   "source": [
    "### 3.Creating Sequences for LSTM Input"
   ]
  },
  {
   "cell_type": "code",
   "execution_count": 4,
   "id": "9b21f2ac-6003-4882-98c5-25e3df9edb38",
   "metadata": {},
   "outputs": [
    {
     "name": "stdout",
     "output_type": "stream",
     "text": [
      "\n",
      "--- Input Shapes for LSTM ---\n",
      "X_train shape: (1410, 60, 1), y_train shape: (1410,)\n",
      "X_test shape: (307, 60, 1), y_test shape: (307,)\n"
     ]
    }
   ],
   "source": [
    "# Create Sequences for LSTM Input\n",
    "def create_sequences(data, time_step=60):\n",
    "    X, y = [], []\n",
    "    for i in range(len(data) - time_step - 1):\n",
    "        X.append(data[i:(i + time_step), 0])\n",
    "        y.append(data[i + time_step, 0])\n",
    "    return np.array(X), np.array(y)\n",
    "\n",
    "# Create sequences\n",
    "time_step = 60\n",
    "X_train, y_train = create_sequences(train_data, time_step)\n",
    "X_test, y_test = create_sequences(test_data, time_step)\n",
    "\n",
    "# Reshape the data for LSTM input\n",
    "X_train = X_train.reshape((X_train.shape[0], X_train.shape[1], 1))\n",
    "X_test = X_test.reshape((X_test.shape[0], X_test.shape[1], 1))\n",
    "print(\"\\n--- Input Shapes for LSTM ---\")\n",
    "print(f\"X_train shape: {X_train.shape}, y_train shape: {y_train.shape}\")\n",
    "print(f\"X_test shape: {X_test.shape}, y_test shape: {y_test.shape}\")"
   ]
  },
  {
   "cell_type": "markdown",
   "id": "0d0da0f8-2ff6-4c1c-8395-b0d036ad02c2",
   "metadata": {},
   "source": [
    "### 4. Building the LSTM Model"
   ]
  },
  {
   "cell_type": "code",
   "execution_count": 5,
   "id": "17d62211-5569-49a8-803e-7286945c7e75",
   "metadata": {},
   "outputs": [
    {
     "name": "stdout",
     "output_type": "stream",
     "text": [
      "Epoch 1/20\n"
     ]
    },
    {
     "name": "stderr",
     "output_type": "stream",
     "text": [
      "C:\\Users\\milto\\anaconda3\\Lib\\site-packages\\keras\\src\\layers\\rnn\\rnn.py:200: UserWarning: Do not pass an `input_shape`/`input_dim` argument to a layer. When using Sequential models, prefer using an `Input(shape)` object as the first layer in the model instead.\n",
      "  super().__init__(**kwargs)\n"
     ]
    },
    {
     "name": "stdout",
     "output_type": "stream",
     "text": [
      "\u001b[1m23/23\u001b[0m \u001b[32m━━━━━━━━━━━━━━━━━━━━\u001b[0m\u001b[37m\u001b[0m \u001b[1m2s\u001b[0m 22ms/step - loss: 0.0524\n",
      "Epoch 2/20\n",
      "\u001b[1m23/23\u001b[0m \u001b[32m━━━━━━━━━━━━━━━━━━━━\u001b[0m\u001b[37m\u001b[0m \u001b[1m1s\u001b[0m 23ms/step - loss: 0.0028\n",
      "Epoch 3/20\n",
      "\u001b[1m23/23\u001b[0m \u001b[32m━━━━━━━━━━━━━━━━━━━━\u001b[0m\u001b[37m\u001b[0m \u001b[1m1s\u001b[0m 24ms/step - loss: 0.0021\n",
      "Epoch 4/20\n",
      "\u001b[1m23/23\u001b[0m \u001b[32m━━━━━━━━━━━━━━━━━━━━\u001b[0m\u001b[37m\u001b[0m \u001b[1m1s\u001b[0m 22ms/step - loss: 0.0019\n",
      "Epoch 5/20\n",
      "\u001b[1m23/23\u001b[0m \u001b[32m━━━━━━━━━━━━━━━━━━━━\u001b[0m\u001b[37m\u001b[0m \u001b[1m1s\u001b[0m 24ms/step - loss: 0.0018\n",
      "Epoch 6/20\n",
      "\u001b[1m23/23\u001b[0m \u001b[32m━━━━━━━━━━━━━━━━━━━━\u001b[0m\u001b[37m\u001b[0m \u001b[1m1s\u001b[0m 25ms/step - loss: 0.0023\n",
      "Epoch 7/20\n",
      "\u001b[1m23/23\u001b[0m \u001b[32m━━━━━━━━━━━━━━━━━━━━\u001b[0m\u001b[37m\u001b[0m \u001b[1m0s\u001b[0m 20ms/step - loss: 0.0018\n",
      "Epoch 8/20\n",
      "\u001b[1m23/23\u001b[0m \u001b[32m━━━━━━━━━━━━━━━━━━━━\u001b[0m\u001b[37m\u001b[0m \u001b[1m1s\u001b[0m 23ms/step - loss: 0.0015\n",
      "Epoch 9/20\n",
      "\u001b[1m23/23\u001b[0m \u001b[32m━━━━━━━━━━━━━━━━━━━━\u001b[0m\u001b[37m\u001b[0m \u001b[1m1s\u001b[0m 22ms/step - loss: 0.0016\n",
      "Epoch 10/20\n",
      "\u001b[1m23/23\u001b[0m \u001b[32m━━━━━━━━━━━━━━━━━━━━\u001b[0m\u001b[37m\u001b[0m \u001b[1m1s\u001b[0m 23ms/step - loss: 0.0021\n",
      "Epoch 11/20\n",
      "\u001b[1m23/23\u001b[0m \u001b[32m━━━━━━━━━━━━━━━━━━━━\u001b[0m\u001b[37m\u001b[0m \u001b[1m1s\u001b[0m 24ms/step - loss: 0.0019\n",
      "Epoch 12/20\n",
      "\u001b[1m23/23\u001b[0m \u001b[32m━━━━━━━━━━━━━━━━━━━━\u001b[0m\u001b[37m\u001b[0m \u001b[1m1s\u001b[0m 24ms/step - loss: 0.0019\n",
      "Epoch 13/20\n",
      "\u001b[1m23/23\u001b[0m \u001b[32m━━━━━━━━━━━━━━━━━━━━\u001b[0m\u001b[37m\u001b[0m \u001b[1m0s\u001b[0m 21ms/step - loss: 0.0016\n",
      "Epoch 14/20\n",
      "\u001b[1m23/23\u001b[0m \u001b[32m━━━━━━━━━━━━━━━━━━━━\u001b[0m\u001b[37m\u001b[0m \u001b[1m1s\u001b[0m 23ms/step - loss: 0.0016\n",
      "Epoch 15/20\n",
      "\u001b[1m23/23\u001b[0m \u001b[32m━━━━━━━━━━━━━━━━━━━━\u001b[0m\u001b[37m\u001b[0m \u001b[1m1s\u001b[0m 22ms/step - loss: 0.0015\n",
      "Epoch 16/20\n",
      "\u001b[1m23/23\u001b[0m \u001b[32m━━━━━━━━━━━━━━━━━━━━\u001b[0m\u001b[37m\u001b[0m \u001b[1m1s\u001b[0m 22ms/step - loss: 0.0017\n",
      "Epoch 17/20\n",
      "\u001b[1m23/23\u001b[0m \u001b[32m━━━━━━━━━━━━━━━━━━━━\u001b[0m\u001b[37m\u001b[0m \u001b[1m1s\u001b[0m 22ms/step - loss: 0.0014\n",
      "Epoch 18/20\n",
      "\u001b[1m23/23\u001b[0m \u001b[32m━━━━━━━━━━━━━━━━━━━━\u001b[0m\u001b[37m\u001b[0m \u001b[1m1s\u001b[0m 22ms/step - loss: 0.0018\n",
      "Epoch 19/20\n",
      "\u001b[1m23/23\u001b[0m \u001b[32m━━━━━━━━━━━━━━━━━━━━\u001b[0m\u001b[37m\u001b[0m \u001b[1m1s\u001b[0m 22ms/step - loss: 0.0014\n",
      "Epoch 20/20\n",
      "\u001b[1m23/23\u001b[0m \u001b[32m━━━━━━━━━━━━━━━━━━━━\u001b[0m\u001b[37m\u001b[0m \u001b[1m1s\u001b[0m 22ms/step - loss: 0.0014\n"
     ]
    },
    {
     "data": {
      "text/plain": [
       "<keras.src.callbacks.history.History at 0x1d9c4a56330>"
      ]
     },
     "execution_count": 5,
     "metadata": {},
     "output_type": "execute_result"
    }
   ],
   "source": [
    "# Build and Compile the LSTM Model\n",
    "model = Sequential()\n",
    "model.add(LSTM(units=50, return_sequences=True, input_shape=(time_step, 1)))\n",
    "model.add(Dropout(0.2))\n",
    "model.add(LSTM(units=50, return_sequences=False))\n",
    "model.add(Dropout(0.2))\n",
    "model.add(Dense(units=1))\n",
    "model.compile(optimizer='adam', loss='mean_squared_error')\n",
    "\n",
    "# Fit the Model\n",
    "model.fit(X_train, y_train, epochs=20, batch_size=64, verbose=1)"
   ]
  },
  {
   "cell_type": "markdown",
   "id": "3b359ea7-2fd7-4120-91ee-b8a62a4284f1",
   "metadata": {},
   "source": [
    "### 5. Make Predictions"
   ]
  },
  {
   "cell_type": "code",
   "execution_count": 6,
   "id": "0cd4e1f6-1ca7-484b-a995-24d82d4161e0",
   "metadata": {},
   "outputs": [
    {
     "name": "stdout",
     "output_type": "stream",
     "text": [
      "\u001b[1m10/10\u001b[0m \u001b[32m━━━━━━━━━━━━━━━━━━━━\u001b[0m\u001b[37m\u001b[0m \u001b[1m0s\u001b[0m 22ms/step\n"
     ]
    },
    {
     "data": {
      "image/png": "[encoded data removed]",
      "text/plain": [
       "<Figure size 1000x600 with 1 Axes>"
      ]
     },
     "metadata": {},
     "output_type": "display_data"
    }
   ],
   "source": [
    "predicted_stock_price = model.predict(X_test)\n",
    "predicted_stock_price = scaler.inverse_transform(predicted_stock_price)\n",
    "y_test_actual = scaler.inverse_transform([y_test])\n",
    "\n",
    "# Plot the Results\n",
    "plt.figure(figsize=(10, 6))\n",
    "\n",
    "# CreAte a date index for the test set\n",
    "test_dates = stock_data.index[-len(y_test_actual[0]):]\n",
    "\n",
    "plt.plot(test_dates, y_test_actual[0], color='blue', label='Actual Stock Price')\n",
    "plt.plot(test_dates, predicted_stock_price, color='red', label='Predicted Stock Price')\n",
    "\n",
    "plt.title('Stock Price Prediction')\n",
    "plt.xlabel('Date')\n",
    "plt.ylabel('Stock Price')\n",
    "plt.legend()\n",
    "plt.xticks(rotation=45)  # Rotate x-axis labels for better readability\n",
    "plt.tight_layout()  # Adjust layout for better spacing\n",
    "plt.show()"
   ]
  },
  {
   "cell_type": "markdown",
   "id": "b86c20b7-11a9-411d-b032-eb4b31635eeb",
   "metadata": {},
   "source": [
    "### 6. Backtesting Strategy:\n",
    "\n",
    "A simple backtesting strategy is implemented to simulate trading based on the predictions."
   ]
  },
  {
   "cell_type": "code",
   "execution_count": 7,
   "id": "87ee55ab-a88b-4944-83dd-8408ee489e73",
   "metadata": {},
   "outputs": [
    {
     "name": "stdout",
     "output_type": "stream",
     "text": [
      "Final balance after backtesting: 62.28\n"
     ]
    }
   ],
   "source": [
    "# Backtesting Strategy\n",
    "def backtest_strategy(predictions, actual_prices):\n",
    "    initial_balance = 10000\n",
    "    balance = initial_balance\n",
    "    shares = 0\n",
    "\n",
    "    for i in range(len(predictions)):\n",
    "        if predictions[i] > actual_prices[i]:  # Buy condition\n",
    "            shares += balance // actual_prices[i]\n",
    "            balance -= shares * actual_prices[i]\n",
    "        elif predictions[i] < actual_prices[i] and shares > 0:  # Sell condition\n",
    "            balance += shares * actual_prices[i]\n",
    "            shares = 0\n",
    "\n",
    "    final_value = balance + shares * actual_prices[-1]\n",
    "    return final_value\n",
    "\n",
    "# Execute backtesting\n",
    "final_balance = backtest_strategy(predicted_stock_price.flatten(), y_test_actual[0])\n",
    "print(f'Final balance after backtesting: {final_balance:.2f}')"
   ]
  },
  {
   "cell_type": "code",
   "execution_count": 8,
   "id": "a99f99b3-33a1-4cc7-a097-f66ab0157019",
   "metadata": {},
   "outputs": [
    {
     "name": "stdout",
     "output_type": "stream",
     "text": [
      "\u001b[1m10/10\u001b[0m \u001b[32m━━━━━━━━━━━━━━━━━━━━\u001b[0m\u001b[37m\u001b[0m \u001b[1m0s\u001b[0m 7ms/step \n",
      "\n",
      "--- Additional Evaluation Metrics ---\n",
      "Mean Absolute Error (MAE): 7.8064\n",
      "R-squared (R²): 0.9579\n"
     ]
    }
   ],
   "source": [
    "from sklearn.metrics import mean_absolute_error, r2_score\n",
    "\n",
    "# After making predictions and converting them back to the original scale\n",
    "predicted_stock_price = model.predict(X_test)\n",
    "predicted_stock_price = scaler.inverse_transform(predicted_stock_price)\n",
    "y_test_actual = scaler.inverse_transform([y_test])\n",
    "\n",
    "# Calculate additional evaluation metrics\n",
    "mae = mean_absolute_error(y_test_actual[0], predicted_stock_price)\n",
    "r2 = r2_score(y_test_actual[0], predicted_stock_price)\n",
    "\n",
    "# Print the evaluation metrics\n",
    "print(f\"\\n--- Additional Evaluation Metrics ---\")\n",
    "print(f\"Mean Absolute Error (MAE): {mae:.4f}\")\n",
    "print(f\"R-squared (R²): {r2:.4f}\")\n"
   ]
  },
  {
   "cell_type": "markdown",
   "id": "794dc285-201a-4878-abcd-c6672c2f3fd7",
   "metadata": {},
   "source": [
    "## Conclusion\n",
    "\n",
    "This project aimed to develop a machine learning model to predict PayPal's stock prices using historical data. The model utilized an LSTM (Long Short-Term Memory) network, which is well-suited for time series forecasting, to predict future stock prices based on past performance. \n",
    "\n",
    "#### Evaluation Metrics \n",
    "\n",
    "- The Final Balance from Backtesting was $62.28.\n",
    "- The R-squared (R²) score of 0.9579 indicates that the model explains about 96% of the variance in the stock prices, which is excellent for a forecasting model.\n",
    "\n",
    "#### Overall Results:\n",
    "\n",
    "- Despite the modest profit from the backtesting, the model's ability to explain most of the variance in the data (high R²) and low MAE suggests that the LSTM model is effective in capturing the trends and patterns in PayPal's stock price over time.\n",
    "- The loss in training (approximately 0.0014) shows that the model has been well-optimized, but there could be room for improvement in making it more responsive to market volatility."
   ]
  }
 ],
 "metadata": {
  "kernelspec": {
   "display_name": "Python 3 (ipykernel)",
   "language": "python",
   "name": "python3"
  },
  "language_info": {
   "codemirror_mode": {
    "name": "ipython",
    "version": 3
   },
   "file_extension": ".py",
   "mimetype": "text/x-python",
   "name": "python",
   "nbconvert_exporter": "python",
   "pygments_lexer": "ipython3",
   "version": "3.12.3"
  }
 },
 "nbformat": 4,
 "nbformat_minor": 5
}
